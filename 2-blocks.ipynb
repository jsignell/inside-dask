{
 "cells": [
  {
   "cell_type": "markdown",
   "id": "97c7412a-a324-4efc-af30-4ec79c24dda5",
   "metadata": {},
   "source": [
    "<img src=\"images/dask_horizontal.svg\"\n",
    "     width=\"45%\"\n",
    "     alt=\"Dask logo\">\n",
    "     \n",
    "# Blocks\n",
    "\n",
    "Dask collections are broken up into **blocks** (these can also be called **chunks** or **partitions**)."
   ]
  },
  {
   "cell_type": "markdown",
   "id": "64772baa-9830-4843-889e-f19d66b16fd8",
   "metadata": {},
   "source": [
    "<img src=\"images/dask-dataframe.png\" width=\"35%\"> <img src=\"images/dask-array.png\" width=\"52%\" align=\"right\">"
   ]
  },
  {
   "cell_type": "code",
   "execution_count": null,
   "id": "f20c4add-0ef8-48f2-b4a6-38c870747875",
   "metadata": {},
   "outputs": [],
   "source": [
    "import dask.array as da\n",
    "\n",
    "arr = da.random.random(size=(1_000, 1_000), chunks=(250, 500))\n",
    "arr"
   ]
  },
  {
   "cell_type": "code",
   "execution_count": null,
   "id": "1e0ce7e7-1ccd-4fb1-887c-97ef4982ab92",
   "metadata": {},
   "outputs": [],
   "source": [
    "arr.blocks[0, 1]"
   ]
  },
  {
   "cell_type": "markdown",
   "id": "3eaa47eb-c74c-4375-9544-733f28c64dd2",
   "metadata": {},
   "source": [
    "When you call a function, Dask applies that function to each **block**."
   ]
  },
  {
   "cell_type": "code",
   "execution_count": null,
   "id": "79003b5b-25fe-44c8-870a-946a0df6c1b3",
   "metadata": {},
   "outputs": [],
   "source": [
    "arr.sum().visualize()"
   ]
  },
  {
   "cell_type": "markdown",
   "id": "d3a82b50-a2f1-49b8-a1af-4ae181795662",
   "metadata": {},
   "source": [
    "<img src=\"images/dask-map-reduce.png\" width=\"50%\"> "
   ]
  }
 ],
 "metadata": {
  "kernelspec": {
   "display_name": "Python 3",
   "language": "python",
   "name": "python3"
  },
  "language_info": {
   "codemirror_mode": {
    "name": "ipython",
    "version": 3
   },
   "file_extension": ".py",
   "mimetype": "text/x-python",
   "name": "python",
   "nbconvert_exporter": "python",
   "pygments_lexer": "ipython3",
   "version": "3.9.6"
  }
 },
 "nbformat": 4,
 "nbformat_minor": 5
}
