{
 "cells": [
  {
   "cell_type": "markdown",
   "id": "97c7412a-a324-4efc-af30-4ec79c24dda5",
   "metadata": {},
   "source": [
    "<img src=\"images/dask_horizontal.svg\"\n",
    "     width=\"45%\"\n",
    "     alt=\"Dask logo\">\n",
    "     \n",
    "# Iterate over Blocks\n",
    "\n",
    "You can manually apply a function to each **block** by iterating over the **blocks** in the array."
   ]
  },
  {
   "cell_type": "code",
   "execution_count": null,
   "id": "f20c4add-0ef8-48f2-b4a6-38c870747875",
   "metadata": {},
   "outputs": [],
   "source": [
    "import dask.array as da\n",
    "\n",
    "arr = da.random.random(size=(1_000, 1_000), chunks=(250, 500))\n",
    "\n",
    "result = 0\n",
    "for block in arr.blocks:\n",
    "    result += block.sum()\n",
    "    \n",
    "result.visualize()"
   ]
  },
  {
   "cell_type": "markdown",
   "id": "31c8d09c-8947-4362-8116-33ef85c7d56d",
   "metadata": {},
   "source": [
    "For dataframes this looks very similar. Here we iterate over **partitions** in a list comprehension."
   ]
  },
  {
   "cell_type": "code",
   "execution_count": null,
   "id": "f7fea7d7-5d06-4c27-aad4-ccdc63653991",
   "metadata": {},
   "outputs": [],
   "source": [
    "import dask\n",
    "\n",
    "ddf = dask.datasets.timeseries()\n",
    "\n",
    "result = sum(partition.groupby(\"name\").sum() for partition in ddf.partitions)\n",
    "result.visualize()"
   ]
  }
 ],
 "metadata": {
  "kernelspec": {
   "display_name": "Python 3",
   "language": "python",
   "name": "python3"
  },
  "language_info": {
   "codemirror_mode": {
    "name": "ipython",
    "version": 3
   },
   "file_extension": ".py",
   "mimetype": "text/x-python",
   "name": "python",
   "nbconvert_exporter": "python",
   "pygments_lexer": "ipython3",
   "version": "3.9.6"
  }
 },
 "nbformat": 4,
 "nbformat_minor": 5
}
