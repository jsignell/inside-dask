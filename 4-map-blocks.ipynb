{
 "cells": [
  {
   "cell_type": "markdown",
   "id": "97c7412a-a324-4efc-af30-4ec79c24dda5",
   "metadata": {},
   "source": [
    "<img src=\"images/dask_horizontal.svg\"\n",
    "     width=\"45%\"\n",
    "     alt=\"Dask logo\">\n",
    "     \n",
    "# Map over Blocks\n",
    "\n",
    "You can apply a function to each **block** using `map_blocks`."
   ]
  },
  {
   "cell_type": "code",
   "execution_count": null,
   "id": "fa0d74b8-5a6a-4f81-be31-40c7c06ff485",
   "metadata": {},
   "outputs": [],
   "source": [
    "import dask.array as da\n",
    "\n",
    "arr = da.random.random(size=(1_000, 1_000), chunks=(250, 500))\n",
    "\n",
    "result = arr.map_blocks(lambda x: x.sum(), drop_axis=[0,1])\n",
    "result.visualize()"
   ]
  },
  {
   "cell_type": "markdown",
   "id": "31c8d09c-8947-4362-8116-33ef85c7d56d",
   "metadata": {},
   "source": [
    "Let's try the same for our dataframe example"
   ]
  },
  {
   "cell_type": "code",
   "execution_count": null,
   "id": "762c95bf-ffd8-436c-8396-a67d67c808c5",
   "metadata": {},
   "outputs": [],
   "source": [
    "import dask\n",
    "\n",
    "ddf = dask.datasets.timeseries()\n",
    "\n",
    "result = ddf.map_partitions(lambda x: x.groupby(\"name\").sum())\n",
    "result.visualize()"
   ]
  },
  {
   "cell_type": "code",
   "execution_count": null,
   "id": "1b82b7bd-8c09-4437-a56e-78d9a60c5095",
   "metadata": {},
   "outputs": [],
   "source": [
    "result.compute()"
   ]
  },
  {
   "cell_type": "markdown",
   "id": "ccc34a69-150c-47d7-bc3b-f32dd6aafae2",
   "metadata": {},
   "source": [
    "### What happened? \n",
    "\n",
    "`map_partitions` operated on each block and then concatenated the results back into a dataframe. These methods are very particular and the output can be surprising. In this case it would be better to use a `reduction` or since you are using groupby, you can create a custom aggregation."
   ]
  },
  {
   "cell_type": "code",
   "execution_count": null,
   "id": "2442bfd3-4e6a-4b28-9e1d-4343e9a983eb",
   "metadata": {},
   "outputs": [],
   "source": [
    "import dask\n",
    "\n",
    "ddf = dask.datasets.timeseries()\n",
    "\n",
    "result = ddf.reduction(lambda df: df.groupby(\"name\").sum())\n",
    "result.visualize()"
   ]
  },
  {
   "cell_type": "code",
   "execution_count": null,
   "id": "6d473d6d-6da4-4ac2-9968-5211c3a03d27",
   "metadata": {},
   "outputs": [],
   "source": [
    "import dask.dataframe as dd\n",
    "\n",
    "result = ddf.groupby(\"name\").aggregate(dd.Aggregation('custom_sum', lambda x: x.sum(), lambda x: x.sum()))\n",
    "result.visualize()"
   ]
  }
 ],
 "metadata": {
  "kernelspec": {
   "display_name": "Python 3",
   "language": "python",
   "name": "python3"
  },
  "language_info": {
   "codemirror_mode": {
    "name": "ipython",
    "version": 3
   },
   "file_extension": ".py",
   "mimetype": "text/x-python",
   "name": "python",
   "nbconvert_exporter": "python",
   "pygments_lexer": "ipython3",
   "version": "3.9.6"
  }
 },
 "nbformat": 4,
 "nbformat_minor": 5
}
