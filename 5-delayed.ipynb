{
 "cells": [
  {
   "cell_type": "markdown",
   "id": "97c7412a-a324-4efc-af30-4ec79c24dda5",
   "metadata": {},
   "source": [
    "<img src=\"images/dask_horizontal.svg\"\n",
    "     width=\"45%\"\n",
    "     alt=\"Dask logo\">\n",
    "     \n",
    "# Delayed\n",
    "\n",
    "What if you don't have an array or dataframe? Instead of having blocks where the function is applied to each block, you can decorate functions with `@delayed` and have the functions themselves be lazy. "
   ]
  },
  {
   "cell_type": "code",
   "execution_count": null,
   "id": "1b21db7f-62b8-4772-bac0-952e059833a4",
   "metadata": {},
   "outputs": [],
   "source": [
    "import time\n",
    "import random\n",
    "from dask import delayed\n",
    "\n",
    "@delayed\n",
    "def inc(x):\n",
    "    time.sleep(random.random())\n",
    "    return x + 1\n",
    "\n",
    "@delayed\n",
    "def double(x):\n",
    "    time.sleep(random.random())\n",
    "    return 2 * x\n",
    "  \n",
    "@delayed\n",
    "def add(x, y):\n",
    "    time.sleep(random.random())\n",
    "    return x + y "
   ]
  },
  {
   "cell_type": "code",
   "execution_count": null,
   "id": "5c70aeab-b487-4b2c-875c-a2a182899327",
   "metadata": {},
   "outputs": [],
   "source": [
    "data = [1, 2, 3, 4]\n",
    "\n",
    "output = []\n",
    "for i in data:\n",
    "    a = inc(i)\n",
    "    b = double(i)\n",
    "    c = add(a, b)\n",
    "    output.append(c)\n",
    "\n",
    "total = sum(output)"
   ]
  },
  {
   "cell_type": "code",
   "execution_count": null,
   "id": "6446b8b4-fd8c-4d36-8b6d-64e0c1db7233",
   "metadata": {},
   "outputs": [],
   "source": [
    "total.visualize()"
   ]
  },
  {
   "cell_type": "markdown",
   "id": "d7c4f732-f6a8-4b0c-9ee4-0dcf513ff1f0",
   "metadata": {},
   "source": [
    "Of course objects can also be converted to `delayed`. Here we can convert from a `dask.array` to a `numpy.array` of delayed objects. "
   ]
  },
  {
   "cell_type": "code",
   "execution_count": null,
   "id": "bf7e6ae8-0c45-4276-a9ef-9edb9b96db36",
   "metadata": {},
   "outputs": [],
   "source": [
    "import dask.array as da\n",
    "\n",
    "arr = da.random.random(size=(1_000, 1_000), chunks=(250, 500))\n",
    "\n",
    "arr_delayed = arr.to_delayed()\n",
    "arr_delayed"
   ]
  },
  {
   "cell_type": "code",
   "execution_count": null,
   "id": "230a949f-3487-4e74-a688-0fdd83ee75fc",
   "metadata": {},
   "outputs": [],
   "source": [
    "arr_delayed[0, 1].sum().compute()"
   ]
  },
  {
   "cell_type": "code",
   "execution_count": null,
   "id": "bb762883-f155-4d1b-b9b0-a50e4f99a121",
   "metadata": {},
   "outputs": [],
   "source": [
    "arr.blocks[0, 1].sum().compute()"
   ]
  }
 ],
 "metadata": {
  "kernelspec": {
   "display_name": "Python 3",
   "language": "python",
   "name": "python3"
  },
  "language_info": {
   "codemirror_mode": {
    "name": "ipython",
    "version": 3
   },
   "file_extension": ".py",
   "mimetype": "text/x-python",
   "name": "python",
   "nbconvert_exporter": "python",
   "pygments_lexer": "ipython3",
   "version": "3.9.6"
  }
 },
 "nbformat": 4,
 "nbformat_minor": 5
}
