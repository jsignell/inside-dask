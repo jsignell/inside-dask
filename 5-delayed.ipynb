{
 "cells": [
  {
   "cell_type": "markdown",
   "id": "97c7412a-a324-4efc-af30-4ec79c24dda5",
   "metadata": {},
   "source": [
    "<img src=\"images/dask_horizontal.svg\"\n",
    "     width=\"300px\"\n",
    "     alt=\"Dask logo\">\n",
    "     \n",
    "# Delayed\n",
    "\n",
    "What if you don't have an array or dataframe? Instead of having blocks where the function is applied to each block, you can decorate functions with `@delayed` and _have the functions themselves be lazy_. \n",
    "\n",
    "**NOTE:** For this example we will create a fake dataset and store it on disk. You can ignore this bit."
   ]
  },
  {
   "cell_type": "code",
   "execution_count": null,
   "id": "43000876-2050-4973-aed6-f9c89d04b1d5",
   "metadata": {},
   "outputs": [],
   "source": [
    "import numpy as np\n",
    "import dask\n",
    "import dask.array as da\n",
    "\n",
    "ddf = dask.datasets.timeseries(start=\"2010-01-01\", end=\"2020-01-01\", freq=\"1H\", partition_freq=\"1Y\")\n",
    "annual_cycle = np.sin(2 * np.pi * (ddf.index.dayofyear.values / 365.25 - 0.28)).compute_chunk_sizes()\n",
    "temperature_values = 10 + 15 * annual_cycle + 3 * da.random.normal(size=annual_cycle.size)\n",
    "ddf[\"temperature\"] = temperature_values\n",
    "\n",
    "ddf.to_csv(\"data\")"
   ]
  },
  {
   "cell_type": "markdown",
   "id": "3110a8d7-6645-4540-9823-d63a6bd77729",
   "metadata": {},
   "source": [
    "## Delayed version of ETL\n",
    "\n",
    "This is example matches the one in [Not Delayed](./5.1-not-delayed.ipynb). But this one has Dask."
   ]
  },
  {
   "cell_type": "code",
   "execution_count": null,
   "id": "9730626c-99b8-4b48-839a-473bfef2ba3b",
   "metadata": {},
   "outputs": [],
   "source": [
    "!rm -rf transformed_data_lazy\n",
    "\n",
    "import os\n",
    "import time\n",
    "import random\n",
    "import pandas as pd\n",
    "import dask\n",
    "\n",
    "os.mkdir(\"transformed_data_lazy\")  \n",
    "\n",
    "@dask.delayed\n",
    "def read_a_file(filename):\n",
    "    time.sleep(random.random())\n",
    "    df = pd.read_csv(f\"data/{filename}\", parse_dates=[\"timestamp\"], index_col=\"timestamp\")\n",
    "    return df\n",
    "\n",
    "@dask.delayed\n",
    "def do_a_transformation(df):\n",
    "    time.sleep(random.random())\n",
    "    df[\"temperature_F\"] = df[\"temperature\"] * 9/5 + 32 \n",
    "    return df\n",
    "\n",
    "@dask.delayed\n",
    "def write_it_back_out(df, filename):\n",
    "    time.sleep(random.random())\n",
    "    path = f\"transformed_data_lazy/{filename}\"\n",
    "    df.to_csv(path)\n",
    "    return path\n",
    "\n",
    "filenames = os.listdir(\"data\")\n",
    "\n",
    "outputs = []\n",
    "for filename in filenames:\n",
    "    df = read_a_file(filename)\n",
    "    df = do_a_transformation(df)\n",
    "    path = write_it_back_out(df, filename)\n",
    "    outputs.append(path)\n",
    "\n",
    "dask.compute(outputs)"
   ]
  },
  {
   "cell_type": "code",
   "execution_count": null,
   "id": "6446b8b4-fd8c-4d36-8b6d-64e0c1db7233",
   "metadata": {},
   "outputs": [],
   "source": [
    "dask.visualize(outputs)"
   ]
  },
  {
   "cell_type": "markdown",
   "id": "d7c4f732-f6a8-4b0c-9ee4-0dcf513ff1f0",
   "metadata": {},
   "source": [
    "## Delayed objects\n",
    "\n",
    "Of course objects can also be converted to `delayed`. Here we can convert from a `dask.array` to a `numpy.array` of delayed objects."
   ]
  },
  {
   "cell_type": "code",
   "execution_count": null,
   "id": "bf7e6ae8-0c45-4276-a9ef-9edb9b96db36",
   "metadata": {},
   "outputs": [],
   "source": [
    "import dask.array as da\n",
    "\n",
    "arr = da.random.random(size=(1_000, 1_000), chunks=(250, 500))\n",
    "\n",
    "arr_delayed = arr.to_delayed()\n",
    "arr_delayed"
   ]
  },
  {
   "cell_type": "markdown",
   "id": "72460b8c-0a36-44b2-b057-f7098f33d6b8",
   "metadata": {},
   "source": [
    "Delayed objects can be used like **blocks**, but they don't have any sense of what they represent, so there are fewer guard rails."
   ]
  },
  {
   "cell_type": "code",
   "execution_count": null,
   "id": "230a949f-3487-4e74-a688-0fdd83ee75fc",
   "metadata": {},
   "outputs": [],
   "source": [
    "arr_delayed[0, 1].sum().compute()"
   ]
  },
  {
   "cell_type": "code",
   "execution_count": null,
   "id": "bb762883-f155-4d1b-b9b0-a50e4f99a121",
   "metadata": {},
   "outputs": [],
   "source": [
    "arr.blocks[0, 1].sum().compute()"
   ]
  },
  {
   "cell_type": "code",
   "execution_count": null,
   "id": "42a42504-61d7-4517-902a-8044094d3e1b",
   "metadata": {},
   "outputs": [],
   "source": [
    "arr_delayed[0, 1] + \"a\""
   ]
  },
  {
   "cell_type": "code",
   "execution_count": null,
   "id": "647705a7-4bf8-4126-b94c-f01693f94751",
   "metadata": {},
   "outputs": [],
   "source": [
    "arr.blocks[0, 1] + \"a\""
   ]
  }
 ],
 "metadata": {
  "kernelspec": {
   "display_name": "Python 3",
   "language": "python",
   "name": "python3"
  },
  "language_info": {
   "codemirror_mode": {
    "name": "ipython",
    "version": 3
   },
   "file_extension": ".py",
   "mimetype": "text/x-python",
   "name": "python",
   "nbconvert_exporter": "python",
   "pygments_lexer": "ipython3",
   "version": "3.9.6"
  }
 },
 "nbformat": 4,
 "nbformat_minor": 5
}
