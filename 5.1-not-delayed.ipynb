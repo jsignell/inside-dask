{
 "cells": [
  {
   "cell_type": "markdown",
   "id": "05b9ffef-462c-4f68-9aa6-8a2e9c1fb03e",
   "metadata": {},
   "source": [
    "## Not Delayed version of ETL\n",
    "\n",
    "This is example matches the one in [Delayed](5-delayed.ipynb). But this one has no Dask."
   ]
  },
  {
   "cell_type": "code",
   "execution_count": null,
   "id": "d1237570-0582-48b5-ab34-92bdd72221d7",
   "metadata": {},
   "outputs": [],
   "source": [
    "!rm -rf transformed_data_eager\n",
    "\n",
    "import os\n",
    "import time\n",
    "import random\n",
    "import pandas as pd\n",
    "\n",
    "os.mkdir(\"transformed_data_eager\")  \n",
    "\n",
    "def read_a_file(filename):\n",
    "    time.sleep(random.random())\n",
    "    df = pd.read_csv(f\"data/{filename}\", parse_dates=[\"timestamp\"], index_col=\"timestamp\")\n",
    "    return df\n",
    "\n",
    "def do_a_transformation(df):\n",
    "    time.sleep(random.random())\n",
    "    df[\"temperature_F\"] = df[\"temperature\"] * 9/5 + 32 \n",
    "    return df\n",
    "  \n",
    "def write_it_back_out(df, filename):\n",
    "    time.sleep(random.random())\n",
    "    path = f\"transformed_data_eager/{filename}\"\n",
    "    df.to_csv(path)\n",
    "    return path\n",
    "\n",
    "filenames = os.listdir(\"data\")\n",
    "\n",
    "outputs = []\n",
    "for filename in filenames:\n",
    "    df = read_a_file(filename)\n",
    "    df = do_a_transformation(df)\n",
    "    path = write_it_back_out(df, filename)\n",
    "    outputs.append(path)\n",
    "\n",
    "outputs"
   ]
  }
 ],
 "metadata": {
  "kernelspec": {
   "display_name": "Python 3",
   "language": "python",
   "name": "python3"
  },
  "language_info": {
   "codemirror_mode": {
    "name": "ipython",
    "version": 3
   },
   "file_extension": ".py",
   "mimetype": "text/x-python",
   "name": "python",
   "nbconvert_exporter": "python",
   "pygments_lexer": "ipython3",
   "version": "3.9.6"
  }
 },
 "nbformat": 4,
 "nbformat_minor": 5
}
