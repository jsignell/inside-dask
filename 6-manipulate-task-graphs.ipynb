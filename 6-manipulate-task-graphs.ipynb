{
 "cells": [
  {
   "cell_type": "markdown",
   "id": "62a14f15-c645-46a7-a94c-12ec2ddb8667",
   "metadata": {},
   "source": [
    "<img src=\"images/dask_horizontal.svg\"\n",
    "     width=\"300px\"\n",
    "     alt=\"Dask logo\">\n",
    "     \n",
    "# Manipulating the Task Graph\n",
    "\n",
    "Sometimes the task graph that Dask constructs is sub-optimal. For instance if you are aggregating data and then use that aggregated data in the next operation _and_ that data requires a lot of memory, then it might make sense to manipulate the task graph. Read more about [manipulating task graphs](https://docs.dask.org/en/latest/graph_manipulation.html)."
   ]
  },
  {
   "cell_type": "markdown",
   "id": "edbd4cab-e8fd-4d63-9b14-068d1c946b53",
   "metadata": {},
   "source": [
    "Naive approach to normalizing by mean temperature."
   ]
  },
  {
   "cell_type": "code",
   "execution_count": null,
   "id": "b459606d-ff03-4417-89d6-01eae20b2e88",
   "metadata": {},
   "outputs": [],
   "source": [
    "import dask.dataframe as dd\n",
    "\n",
    "ddf = dd.read_csv(\"data/*\", parse_dates=[\"timestamp\"]).set_index(\"timestamp\")\n",
    "\n",
    "mean_temperature = ddf.temperature.mean()\n",
    "output = (ddf.temperature - mean_temperature).resample(\"1M\").agg([\"min\", \"max\"])"
   ]
  },
  {
   "cell_type": "code",
   "execution_count": null,
   "id": "4401ccf5-90ff-4688-bd22-7b66a9136416",
   "metadata": {
    "tags": []
   },
   "outputs": [],
   "source": [
    "output.visualize()"
   ]
  },
  {
   "cell_type": "markdown",
   "id": "35387bfc-464b-45eb-9128-c9fd4e2a3fc4",
   "metadata": {},
   "source": [
    "If we instead use `bind`, then the task graph is restructured to first go all the way through the `mean_temperature` calculation, and only after that, to start on the full computation. \n",
    "\n",
    "**NOTE:** An alternate approach would be to call `mean_temperature.compute()` and pass the evaluated value into the final operation. The important difference is that using `bind` keeps the operation fully lazy (all part of one task graph)."
   ]
  },
  {
   "cell_type": "code",
   "execution_count": null,
   "id": "9bcf7596-6641-4565-9dd0-b83572f4e8c3",
   "metadata": {},
   "outputs": [],
   "source": [
    "from dask.graph_manipulation import bind\n",
    "\n",
    "temperature_b = bind(ddf.temperature, mean_temperature)\n",
    "output_b = (temperature_b - mean_temperature).resample(\"1M\").agg([\"min\", \"max\"])"
   ]
  },
  {
   "cell_type": "code",
   "execution_count": null,
   "id": "2a0758f6-ffb2-4af4-89c2-8a95ba9786d0",
   "metadata": {},
   "outputs": [],
   "source": [
    "output_b.visualize()"
   ]
  }
 ],
 "metadata": {
  "kernelspec": {
   "display_name": "Python 3",
   "language": "python",
   "name": "python3"
  },
  "language_info": {
   "codemirror_mode": {
    "name": "ipython",
    "version": 3
   },
   "file_extension": ".py",
   "mimetype": "text/x-python",
   "name": "python",
   "nbconvert_exporter": "python",
   "pygments_lexer": "ipython3",
   "version": "3.9.6"
  }
 },
 "nbformat": 4,
 "nbformat_minor": 5
}
