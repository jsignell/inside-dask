{
 "cells": [
  {
   "cell_type": "markdown",
   "id": "e87422e5-db40-4d0d-9586-f216641e7682",
   "metadata": {},
   "source": [
    "<img src=\"images/dask_horizontal.svg\"\n",
    "     width=\"300px\"\n",
    "     alt=\"Dask logo\">\n",
    "     \n",
    "# Distributed\n",
    "\n",
    "So far we've been dealing with Dask's **high-level interface**, and the **task graph**. Here we'll briefly talk about the how the task graphs get executed. For a longer discussion of this topic, take a look at [this notebook](https://github.com/jrbourbeau/hacking-dask/blob/main/4-distributed-scheduler.ipynb).\n",
    "\n",
    "<img src=\"images/dask-cluster.png\" width=\"100%\"> "
   ]
  },
  {
   "cell_type": "markdown",
   "id": "57b30c9d-3dea-4ffb-bb92-82d0fab38cdb",
   "metadata": {},
   "source": [
    "## Create a cluster\n",
    "\n",
    "Let's create a cluster locally"
   ]
  },
  {
   "cell_type": "code",
   "execution_count": null,
   "id": "403b3651-5df9-40f8-9d75-e266f8bd2d42",
   "metadata": {},
   "outputs": [],
   "source": [
    "from dask.distributed import Client\n",
    "\n",
    "client = Client()\n",
    "client"
   ]
  },
  {
   "cell_type": "markdown",
   "id": "91ffd2c3-fa09-4a9a-8b81-32f8ba55a581",
   "metadata": {},
   "source": [
    "Let's use the example from the notebook before to trigger a computation."
   ]
  },
  {
   "cell_type": "code",
   "execution_count": null,
   "id": "c90b7c8f-6f97-4fbe-aa3a-4e86608f8e48",
   "metadata": {},
   "outputs": [],
   "source": [
    "import dask.dataframe as dd\n",
    "\n",
    "ddf = dd.read_csv(\"data/*\", parse_dates=[\"timestamp\"]).set_index(\"timestamp\")\n",
    "\n",
    "mean_temperature = ddf.temperature.mean()\n",
    "output = (ddf.temperature - mean_temperature).resample(\"1M\").agg([\"min\", \"max\"])"
   ]
  },
  {
   "cell_type": "markdown",
   "id": "01709fe2-c4a2-44cf-b079-c88a32c04f71",
   "metadata": {},
   "source": [
    "## Run directly on workers\n",
    "You can also directly run functions on every worker bypassing the scheduler entirely."
   ]
  },
  {
   "cell_type": "code",
   "execution_count": null,
   "id": "92b9762b-46a6-443d-8e03-9511d8bcf562",
   "metadata": {},
   "outputs": [],
   "source": [
    "import os\n",
    "\n",
    "client.run(os.listdir, \"data\")"
   ]
  },
  {
   "cell_type": "markdown",
   "id": "65067a87-0eaa-46e7-97ef-b67d6e22c869",
   "metadata": {},
   "source": [
    "## Worker Plugins\n",
    "\n",
    "Do _stuff_ on a worker every time the worker changes state."
   ]
  },
  {
   "cell_type": "code",
   "execution_count": null,
   "id": "ff1b8b32-1030-4729-9caa-4374ad4facd4",
   "metadata": {},
   "outputs": [],
   "source": [
    "import os\n",
    "from distributed import WorkerPlugin\n",
    "\n",
    "class CopyFile(WorkerPlugin):\n",
    "    \"\"\"A WorkerPlugin to copy a local file to workers.\n",
    "    \n",
    "    Parameters\n",
    "    ----------\n",
    "    filepath: str\n",
    "        A path to the file to copy to workers\n",
    "    Examples\n",
    "    --------\n",
    "    >>> client.register_worker_plugin(CopyFile(\".env\"))\n",
    "    \"\"\"\n",
    "    def __init__(self, filepath):\n",
    "        \"\"\"\n",
    "        Initialize the plugin by reading in the data from the given file.\n",
    "        \"\"\"\n",
    "        self.filename = os.path.basename(filepath)\n",
    "        with open(filepath, \"rb\") as f:\n",
    "            self.data = f.read()\n",
    "\n",
    "    async def setup(self, worker):\n",
    "        with open(self.filename, \"wb+\") as f:\n",
    "            f.write(self.data)\n",
    "        return os.listdir()"
   ]
  },
  {
   "cell_type": "markdown",
   "id": "85f70562-5e5f-4568-a2a5-77ef3bfe2551",
   "metadata": {},
   "source": [
    "**NOTE:** This is slightly goofy since this is a `LocalCluster` and it'll only work on my machine, since I put a picture of a cat up a few levels up."
   ]
  },
  {
   "cell_type": "code",
   "execution_count": null,
   "id": "7006bd41-201a-4200-8434-93387000075c",
   "metadata": {},
   "outputs": [],
   "source": [
    "client.register_worker_plugin(CopyFile(\"../../cat.jpg\"))"
   ]
  }
 ],
 "metadata": {
  "kernelspec": {
   "display_name": "Python 3",
   "language": "python",
   "name": "python3"
  },
  "language_info": {
   "codemirror_mode": {
    "name": "ipython",
    "version": 3
   },
   "file_extension": ".py",
   "mimetype": "text/x-python",
   "name": "python",
   "nbconvert_exporter": "python",
   "pygments_lexer": "ipython3",
   "version": "3.9.6"
  }
 },
 "nbformat": 4,
 "nbformat_minor": 5
}
